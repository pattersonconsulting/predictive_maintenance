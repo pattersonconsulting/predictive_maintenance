{
  "nbformat": 4,
  "nbformat_minor": 0,
  "metadata": {
    "colab": {
      "name": "Test_Snowflake_Connection.ipynb",
      "provenance": [],
      "collapsed_sections": []
    },
    "kernelspec": {
      "name": "python3",
      "display_name": "Python 3"
    },
    "language_info": {
      "name": "python"
    }
  },
  "cells": [
    {
      "cell_type": "code",
      "metadata": {
        "id": "IZQnrQsLyIzE"
      },
      "source": [
        "!pip install snowflake-connector-python\n"
      ],
      "execution_count": null,
      "outputs": []
    },
    {
      "cell_type": "code",
      "metadata": {
        "id": "Q32Xg1kyyV1c"
      },
      "source": [
        "#!/usr/bin/env python\n",
        "import snowflake.connector\n",
        "\n",
        "# Gets the version\n",
        "ctx = snowflake.connector.connect(\n",
        "    user='jpatanooga',\n",
        "    password='nope',\n",
        "    account='nna57244.us-east-1'\n",
        "    )\n",
        "cs = ctx.cursor()\n",
        "try:\n",
        "    cs.execute(\"SELECT current_version()\")\n",
        "    one_row = cs.fetchone()\n",
        "    print(one_row[0])\n",
        "finally:\n",
        "    cs.close()\n",
        "ctx.close()"
      ],
      "execution_count": null,
      "outputs": []
    }
  ]
}