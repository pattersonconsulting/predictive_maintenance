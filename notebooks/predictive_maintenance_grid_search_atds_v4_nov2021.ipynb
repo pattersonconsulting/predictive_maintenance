{
  "nbformat": 4,
  "nbformat_minor": 0,
  "metadata": {
    "colab": {
      "name": "predictive_maintenance_grid_search_atds_v4_nov2021.ipynb",
      "provenance": [],
      "collapsed_sections": []
    },
    "kernelspec": {
      "name": "python3",
      "display_name": "Python 3"
    },
    "language_info": {
      "name": "python"
    }
  },
  "cells": [
    {
      "cell_type": "code",
      "metadata": {
        "colab": {
          "base_uri": "https://localhost:8080/",
          "height": 1000
        },
        "id": "xipxpNzPAl8f",
        "outputId": "774200e0-fe4c-4a48-bab6-f9719f204236"
      },
      "source": [
        "\n",
        "!pip install -I numpy==1.19.2\n",
        "!pip install snowflake-connector-python\n",
        "import warnings\n",
        "warnings.filterwarnings(\"ignore\")\n",
        "!pip install -I pyarrow==5.0.0\n",
        "!pip install git+https://github.com/pattersonconsulting/ml_tools.git"
      ],
      "execution_count": 1,
      "outputs": [
        {
          "output_type": "stream",
          "name": "stdout",
          "text": [
            "Collecting numpy==1.19.2\n",
            "  Downloading numpy-1.19.2-cp37-cp37m-manylinux2010_x86_64.whl (14.5 MB)\n",
            "\u001b[K     |████████████████████████████████| 14.5 MB 10.8 MB/s \n",
            "\u001b[?25hInstalling collected packages: numpy\n",
            "\u001b[31mERROR: pip's dependency resolver does not currently take into account all the packages that are installed. This behaviour is the source of the following dependency conflicts.\n",
            "datascience 0.10.6 requires folium==0.2.1, but you have folium 0.8.3 which is incompatible.\n",
            "albumentations 0.1.12 requires imgaug<0.2.7,>=0.2.5, but you have imgaug 0.2.9 which is incompatible.\u001b[0m\n",
            "Successfully installed numpy-1.19.5\n"
          ]
        },
        {
          "output_type": "display_data",
          "data": {
            "application/vnd.colab-display-data+json": {
              "pip_warning": {
                "packages": [
                  "numpy"
                ]
              }
            }
          },
          "metadata": {}
        },
        {
          "output_type": "stream",
          "name": "stdout",
          "text": [
            "Collecting snowflake-connector-python\n",
            "  Downloading snowflake_connector_python-2.7.1-cp37-cp37m-manylinux_2_12_x86_64.manylinux2010_x86_64.manylinux_2_17_x86_64.manylinux2014_x86_64.whl (14.9 MB)\n",
            "\u001b[K     |████████████████████████████████| 14.9 MB 12.4 MB/s \n",
            "\u001b[?25hCollecting asn1crypto<2.0.0,>0.24.0\n",
            "  Downloading asn1crypto-1.4.0-py2.py3-none-any.whl (104 kB)\n",
            "\u001b[K     |████████████████████████████████| 104 kB 73.7 MB/s \n",
            "\u001b[?25hCollecting oscrypto<2.0.0\n",
            "  Downloading oscrypto-1.2.1-py2.py3-none-any.whl (192 kB)\n",
            "\u001b[K     |████████████████████████████████| 192 kB 85.6 MB/s \n",
            "\u001b[?25hRequirement already satisfied: idna<4,>=2.5 in /usr/local/lib/python3.7/dist-packages (from snowflake-connector-python) (2.10)\n",
            "Collecting pyOpenSSL<21.0.0,>=16.2.0\n",
            "  Downloading pyOpenSSL-20.0.1-py2.py3-none-any.whl (54 kB)\n",
            "\u001b[K     |████████████████████████████████| 54 kB 2.2 MB/s \n",
            "\u001b[?25hRequirement already satisfied: certifi>=2017.4.17 in /usr/local/lib/python3.7/dist-packages (from snowflake-connector-python) (2021.10.8)\n",
            "Requirement already satisfied: setuptools>34.0.0 in /usr/local/lib/python3.7/dist-packages (from snowflake-connector-python) (57.4.0)\n",
            "Collecting pycryptodomex!=3.5.0,<4.0.0,>=3.2\n",
            "  Downloading pycryptodomex-3.11.0-cp35-abi3-manylinux2010_x86_64.whl (1.9 MB)\n",
            "\u001b[K     |████████████████████████████████| 1.9 MB 66.5 MB/s \n",
            "\u001b[?25hRequirement already satisfied: charset-normalizer~=2.0.0 in /usr/local/lib/python3.7/dist-packages (from snowflake-connector-python) (2.0.7)\n",
            "Collecting cryptography<4.0.0,>=3.1.0\n",
            "  Downloading cryptography-3.4.8-cp36-abi3-manylinux_2_24_x86_64.whl (3.0 MB)\n",
            "\u001b[K     |████████████████████████████████| 3.0 MB 16.3 MB/s \n",
            "\u001b[?25hRequirement already satisfied: requests<3.0.0 in /usr/local/lib/python3.7/dist-packages (from snowflake-connector-python) (2.23.0)\n",
            "Collecting pyjwt<3.0.0\n",
            "  Downloading PyJWT-2.3.0-py3-none-any.whl (16 kB)\n",
            "Requirement already satisfied: cffi<2.0.0,>=1.9 in /usr/local/lib/python3.7/dist-packages (from snowflake-connector-python) (1.15.0)\n",
            "Requirement already satisfied: pytz in /usr/local/lib/python3.7/dist-packages (from snowflake-connector-python) (2018.9)\n",
            "Requirement already satisfied: pycparser in /usr/local/lib/python3.7/dist-packages (from cffi<2.0.0,>=1.9->snowflake-connector-python) (2.21)\n",
            "Requirement already satisfied: six>=1.5.2 in /usr/local/lib/python3.7/dist-packages (from pyOpenSSL<21.0.0,>=16.2.0->snowflake-connector-python) (1.15.0)\n",
            "Requirement already satisfied: chardet<4,>=3.0.2 in /usr/local/lib/python3.7/dist-packages (from requests<3.0.0->snowflake-connector-python) (3.0.4)\n",
            "Requirement already satisfied: urllib3!=1.25.0,!=1.25.1,<1.26,>=1.21.1 in /usr/local/lib/python3.7/dist-packages (from requests<3.0.0->snowflake-connector-python) (1.24.3)\n",
            "Installing collected packages: cryptography, asn1crypto, pyOpenSSL, pyjwt, pycryptodomex, oscrypto, snowflake-connector-python\n",
            "Successfully installed asn1crypto-1.4.0 cryptography-3.4.8 oscrypto-1.2.1 pyOpenSSL-20.0.1 pycryptodomex-3.11.0 pyjwt-2.3.0 snowflake-connector-python-2.7.1\n",
            "Collecting pyarrow==5.0.0\n",
            "  Downloading pyarrow-5.0.0-cp37-cp37m-manylinux2014_x86_64.whl (23.6 MB)\n",
            "\u001b[K     |████████████████████████████████| 23.6 MB 1.2 MB/s \n",
            "\u001b[?25hCollecting numpy>=1.16.6\n",
            "  Downloading numpy-1.21.4-cp37-cp37m-manylinux_2_12_x86_64.manylinux2010_x86_64.whl (15.7 MB)\n",
            "\u001b[K     |████████████████████████████████| 15.7 MB 48.4 MB/s \n",
            "\u001b[?25hInstalling collected packages: numpy, pyarrow\n",
            "\u001b[31mERROR: pip's dependency resolver does not currently take into account all the packages that are installed. This behaviour is the source of the following dependency conflicts.\n",
            "yellowbrick 1.3.post1 requires numpy<1.20,>=1.16.0, but you have numpy 1.21.4 which is incompatible.\n",
            "datascience 0.10.6 requires folium==0.2.1, but you have folium 0.8.3 which is incompatible.\n",
            "albumentations 0.1.12 requires imgaug<0.2.7,>=0.2.5, but you have imgaug 0.2.9 which is incompatible.\u001b[0m\n",
            "Successfully installed numpy-1.21.4 pyarrow-5.0.0\n"
          ]
        },
        {
          "output_type": "display_data",
          "data": {
            "application/vnd.colab-display-data+json": {
              "pip_warning": {
                "packages": [
                  "numpy"
                ]
              }
            }
          },
          "metadata": {}
        },
        {
          "output_type": "stream",
          "name": "stdout",
          "text": [
            "Collecting git+https://github.com/pattersonconsulting/ml_tools.git\n",
            "  Cloning https://github.com/pattersonconsulting/ml_tools.git to /tmp/pip-req-build-pxdcfi1a\n",
            "  Running command git clone -q https://github.com/pattersonconsulting/ml_tools.git /tmp/pip-req-build-pxdcfi1a\n",
            "Requirement already satisfied: pandas in /usr/local/lib/python3.7/dist-packages (from ml-valuation==0.0.1) (1.1.5)\n",
            "Requirement already satisfied: sklearn in /usr/local/lib/python3.7/dist-packages (from ml-valuation==0.0.1) (0.0)\n",
            "Requirement already satisfied: matplotlib in /usr/local/lib/python3.7/dist-packages (from ml-valuation==0.0.1) (3.2.2)\n",
            "Requirement already satisfied: numpy in /usr/local/lib/python3.7/dist-packages (from ml-valuation==0.0.1) (1.21.4)\n",
            "Requirement already satisfied: python-dateutil>=2.1 in /usr/local/lib/python3.7/dist-packages (from matplotlib->ml-valuation==0.0.1) (2.8.2)\n",
            "Requirement already satisfied: cycler>=0.10 in /usr/local/lib/python3.7/dist-packages (from matplotlib->ml-valuation==0.0.1) (0.11.0)\n",
            "Requirement already satisfied: kiwisolver>=1.0.1 in /usr/local/lib/python3.7/dist-packages (from matplotlib->ml-valuation==0.0.1) (1.3.2)\n",
            "Requirement already satisfied: pyparsing!=2.0.4,!=2.1.2,!=2.1.6,>=2.0.1 in /usr/local/lib/python3.7/dist-packages (from matplotlib->ml-valuation==0.0.1) (3.0.6)\n",
            "Requirement already satisfied: six>=1.5 in /usr/local/lib/python3.7/dist-packages (from python-dateutil>=2.1->matplotlib->ml-valuation==0.0.1) (1.15.0)\n",
            "Requirement already satisfied: pytz>=2017.2 in /usr/local/lib/python3.7/dist-packages (from pandas->ml-valuation==0.0.1) (2018.9)\n",
            "Requirement already satisfied: scikit-learn in /usr/local/lib/python3.7/dist-packages (from sklearn->ml-valuation==0.0.1) (1.0.1)\n",
            "Requirement already satisfied: threadpoolctl>=2.0.0 in /usr/local/lib/python3.7/dist-packages (from scikit-learn->sklearn->ml-valuation==0.0.1) (3.0.0)\n",
            "Requirement already satisfied: joblib>=0.11 in /usr/local/lib/python3.7/dist-packages (from scikit-learn->sklearn->ml-valuation==0.0.1) (1.1.0)\n",
            "Requirement already satisfied: scipy>=1.1.0 in /usr/local/lib/python3.7/dist-packages (from scikit-learn->sklearn->ml-valuation==0.0.1) (1.4.1)\n",
            "Building wheels for collected packages: ml-valuation\n",
            "  Building wheel for ml-valuation (setup.py) ... \u001b[?25l\u001b[?25hdone\n",
            "  Created wheel for ml-valuation: filename=ml_valuation-0.0.1-py3-none-any.whl size=8800 sha256=206661f3f75698901c0c074a57ff1b75fa5768e41e87d9ec538fe360c980cb6a\n",
            "  Stored in directory: /tmp/pip-ephem-wheel-cache-y8az2rma/wheels/ce/52/e8/5f5de6a3a97eca5d2f9e453ecafb0f88f99054a1f2601f637e\n",
            "Successfully built ml-valuation\n",
            "Installing collected packages: ml-valuation\n",
            "Successfully installed ml-valuation-0.0.1\n"
          ]
        }
      ]
    },
    {
      "cell_type": "code",
      "metadata": {
        "id": "L0MjBet4Ravf"
      },
      "source": [
        "# import basic data science libraries\n",
        "\n",
        "import pandas as pd\n",
        "import numpy as np\n",
        "from matplotlib import pyplot as plt\n",
        "import seaborn as sns\n",
        "from matplotlib.patches import Patch\n",
        "from matplotlib.lines import Line2D\n",
        "%matplotlib inline"
      ],
      "execution_count": 2,
      "outputs": []
    },
    {
      "cell_type": "code",
      "metadata": {
        "id": "l2Nkk0_xAPYU"
      },
      "source": [
        "import sklearn_pandas\n",
        "from sklearn_pandas import DataFrameMapper, cross_val_score"
      ],
      "execution_count": 3,
      "outputs": []
    },
    {
      "cell_type": "code",
      "metadata": {
        "id": "U3i_PN8URs-h",
        "colab": {
          "base_uri": "https://localhost:8080/"
        },
        "outputId": "51bc12a7-e88e-426e-9288-098bd776ea73"
      },
      "source": [
        "\n",
        "# import required machine learning libraries\n",
        "\n",
        "from sklearn.linear_model import LogisticRegression\n",
        "from sklearn.discriminant_analysis import LinearDiscriminantAnalysis\n",
        "from sklearn.svm import SVC\n",
        "from sklearn.ensemble import RandomForestClassifier, GradientBoostingClassifier\n",
        "from sklearn.model_selection import KFold, cross_val_score, GridSearchCV, train_test_split\n",
        "from sklearn.metrics import accuracy_score, classification_report, confusion_matrix\n",
        "from sklearn.metrics import average_precision_score\n",
        "from sklearn.metrics import precision_recall_curve\n",
        "from sklearn.metrics import plot_precision_recall_curve\n",
        "from sklearn.metrics import roc_curve, auc, confusion_matrix\n",
        "\n",
        "\n",
        "import sklearn.preprocessing, sklearn.decomposition, sklearn.linear_model, sklearn.pipeline, sklearn.metrics\n",
        "from sklearn.preprocessing import Normalizer, StandardScaler\n",
        "\n",
        "!pip install scikit-plot\n",
        "import scikitplot as skplt\n",
        "\n",
        "# classifiers\n",
        "from sklearn.ensemble import GradientBoostingClassifier\n",
        "from xgboost import XGBClassifier\n",
        "import lightgbm as lgb\n",
        "\n",
        "import warnings\n",
        "from sklearn.exceptions import DataConversionWarning\n",
        "warnings.filterwarnings(action='ignore', category=DataConversionWarning)\n",
        "\n",
        "import ml_valuation\n",
        "\n",
        "from ml_valuation import model_valuation\n",
        "from ml_valuation import model_visualization"
      ],
      "execution_count": 4,
      "outputs": [
        {
          "output_type": "stream",
          "name": "stdout",
          "text": [
            "Collecting scikit-plot\n",
            "  Downloading scikit_plot-0.3.7-py3-none-any.whl (33 kB)\n",
            "Requirement already satisfied: joblib>=0.10 in /usr/local/lib/python3.7/dist-packages (from scikit-plot) (1.1.0)\n",
            "Requirement already satisfied: scipy>=0.9 in /usr/local/lib/python3.7/dist-packages (from scikit-plot) (1.4.1)\n",
            "Requirement already satisfied: matplotlib>=1.4.0 in /usr/local/lib/python3.7/dist-packages (from scikit-plot) (3.2.2)\n",
            "Requirement already satisfied: scikit-learn>=0.18 in /usr/local/lib/python3.7/dist-packages (from scikit-plot) (1.0.1)\n",
            "Requirement already satisfied: kiwisolver>=1.0.1 in /usr/local/lib/python3.7/dist-packages (from matplotlib>=1.4.0->scikit-plot) (1.3.2)\n",
            "Requirement already satisfied: numpy>=1.11 in /usr/local/lib/python3.7/dist-packages (from matplotlib>=1.4.0->scikit-plot) (1.21.4)\n",
            "Requirement already satisfied: cycler>=0.10 in /usr/local/lib/python3.7/dist-packages (from matplotlib>=1.4.0->scikit-plot) (0.11.0)\n",
            "Requirement already satisfied: pyparsing!=2.0.4,!=2.1.2,!=2.1.6,>=2.0.1 in /usr/local/lib/python3.7/dist-packages (from matplotlib>=1.4.0->scikit-plot) (3.0.6)\n",
            "Requirement already satisfied: python-dateutil>=2.1 in /usr/local/lib/python3.7/dist-packages (from matplotlib>=1.4.0->scikit-plot) (2.8.2)\n",
            "Requirement already satisfied: six>=1.5 in /usr/local/lib/python3.7/dist-packages (from python-dateutil>=2.1->matplotlib>=1.4.0->scikit-plot) (1.15.0)\n",
            "Requirement already satisfied: threadpoolctl>=2.0.0 in /usr/local/lib/python3.7/dist-packages (from scikit-learn>=0.18->scikit-plot) (3.0.0)\n",
            "Installing collected packages: scikit-plot\n",
            "Successfully installed scikit-plot-0.3.7\n"
          ]
        }
      ]
    },
    {
      "cell_type": "code",
      "metadata": {
        "id": "SxcPzQwFR9Pk"
      },
      "source": [
        "#df = pd.read_csv(\"https://archive.ics.uci.edu/ml/machine-learning-databases/00601/ai4i2020.csv\")\n",
        "#print( df.head() )\n",
        "\n",
        "#print( df.info() )\n",
        "import snowflake.connector\n",
        "import getpass\n",
        "\n",
        "# using a simpler way to use your login info without embedding it in the notebook \n",
        "# other enterprise connection patterns (e.g., SSO) are in the Snowflake docs: https://docs.snowflake.com/en/user-guide/python-connector-example.html\n",
        "snowflake_username = getpass.getpass(\"Enter Snowflake Username\")\n",
        "snowflake_pwd = getpass.getpass(\"Enter Snowflake Password\")\n",
        "snowflake_acct = 'nna57244.us-east-1'\n",
        "\n",
        "print(snowflake_username)\n",
        "print(snowflake_acct)\n"
      ],
      "execution_count": null,
      "outputs": []
    },
    {
      "cell_type": "code",
      "metadata": {
        "colab": {
          "base_uri": "https://localhost:8080/"
        },
        "id": "tOUWxQAy9iqH",
        "outputId": "bcae8571-4ca2-4b5c-b550-b078e9cf755a"
      },
      "source": [
        "\n",
        "ctx = snowflake.connector.connect(\n",
        "  user=snowflake_username,\n",
        "  password=snowflake_pwd,\n",
        "  account=snowflake_acct\n",
        "  )\n",
        "cs = ctx.cursor()\n",
        "try:\n",
        "\tcs.execute(\"SELECT current_version()\")\n",
        "\tone_row = cs.fetchone()\n",
        "\tprint(one_row[0])\n",
        "\n",
        "\n",
        "\n",
        "\t#cs.cursor().execute(\"USE WAREHOUSE tiny_warehouse_mg\")\n",
        "\tcs.execute(\"USE DATABASE PREDICTIVE_MAINTENANCE\")    \n",
        "\n",
        "\n",
        "\t#cs.execute(\"SELECT count(TYPE) from RAW_DEVICE_DATA where MACHINE_FAILURE = 1;\")\n",
        "\t#one_row = cs.fetchone()\n",
        "\t#print(\"Records with Failures: \" + str(one_row[0]))\n",
        "\n",
        "\tquery_output = cs.execute( \"select TYPE, AIR_TEMPERATURE, PROCESS_TEMPERATURE, ROTATIONAL_SPEED, TORQUE, TOOL_WEAR, MACHINE_FAILURE  from SUMMARY_SENSOR_DATA;\" )\n",
        "\n",
        "\tdf = query_output.fetch_pandas_all() #.to_csv(\"/path/to/write/table.csv\")\t\n",
        "\t#df.to_csv(\"./data/full_snowflake_dataset.csv\", index=False)\t\n",
        "\n",
        "\tprint( df )\n",
        "\n",
        "\n",
        "finally:\n",
        "    cs.close()\n",
        "\n",
        "\n",
        "\n",
        "ctx.close()"
      ],
      "execution_count": 6,
      "outputs": [
        {
          "output_type": "stream",
          "name": "stdout",
          "text": [
            "5.41.1\n",
            "     TYPE  AIR_TEMPERATURE  ...  TOOL_WEAR  MACHINE_FAILURE\n",
            "0       M            298.1  ...        0.0                0\n",
            "1       L            298.2  ...        3.0                0\n",
            "2       L            298.1  ...        5.0                0\n",
            "3       L            298.2  ...        7.0                0\n",
            "4       L            298.2  ...        9.0                0\n",
            "...   ...              ...  ...        ...              ...\n",
            "5245    M            298.8  ...       14.0                0\n",
            "5246    H            298.9  ...       17.0                0\n",
            "5247    M            299.0  ...       22.0                0\n",
            "5248    H            299.0  ...       25.0                0\n",
            "5249    M            299.0  ...       30.0                0\n",
            "\n",
            "[10000 rows x 7 columns]\n"
          ]
        }
      ]
    },
    {
      "cell_type": "code",
      "metadata": {
        "colab": {
          "base_uri": "https://localhost:8080/",
          "height": 204
        },
        "id": "gKMs7_wySFaD",
        "outputId": "cb7b48b2-69d4-4bb7-8395-b52527381581"
      },
      "source": [
        "# map categorical variable 'diagnosis' into numeric\n",
        "\n",
        "df[\"TYPE\"] = df[\"TYPE\"].map({'H': 2, 'M': 1, 'L': 0})\n",
        "\n",
        "df.head()\n",
        "\n"
      ],
      "execution_count": 7,
      "outputs": [
        {
          "output_type": "execute_result",
          "data": {
            "text/html": [
              "<div>\n",
              "<style scoped>\n",
              "    .dataframe tbody tr th:only-of-type {\n",
              "        vertical-align: middle;\n",
              "    }\n",
              "\n",
              "    .dataframe tbody tr th {\n",
              "        vertical-align: top;\n",
              "    }\n",
              "\n",
              "    .dataframe thead th {\n",
              "        text-align: right;\n",
              "    }\n",
              "</style>\n",
              "<table border=\"1\" class=\"dataframe\">\n",
              "  <thead>\n",
              "    <tr style=\"text-align: right;\">\n",
              "      <th></th>\n",
              "      <th>TYPE</th>\n",
              "      <th>AIR_TEMPERATURE</th>\n",
              "      <th>PROCESS_TEMPERATURE</th>\n",
              "      <th>ROTATIONAL_SPEED</th>\n",
              "      <th>TORQUE</th>\n",
              "      <th>TOOL_WEAR</th>\n",
              "      <th>MACHINE_FAILURE</th>\n",
              "    </tr>\n",
              "  </thead>\n",
              "  <tbody>\n",
              "    <tr>\n",
              "      <th>0</th>\n",
              "      <td>1</td>\n",
              "      <td>298.1</td>\n",
              "      <td>308.6</td>\n",
              "      <td>1551.0</td>\n",
              "      <td>42.8</td>\n",
              "      <td>0.0</td>\n",
              "      <td>0</td>\n",
              "    </tr>\n",
              "    <tr>\n",
              "      <th>1</th>\n",
              "      <td>0</td>\n",
              "      <td>298.2</td>\n",
              "      <td>308.7</td>\n",
              "      <td>1408.0</td>\n",
              "      <td>46.3</td>\n",
              "      <td>3.0</td>\n",
              "      <td>0</td>\n",
              "    </tr>\n",
              "    <tr>\n",
              "      <th>2</th>\n",
              "      <td>0</td>\n",
              "      <td>298.1</td>\n",
              "      <td>308.5</td>\n",
              "      <td>1498.0</td>\n",
              "      <td>49.4</td>\n",
              "      <td>5.0</td>\n",
              "      <td>0</td>\n",
              "    </tr>\n",
              "    <tr>\n",
              "      <th>3</th>\n",
              "      <td>0</td>\n",
              "      <td>298.2</td>\n",
              "      <td>308.6</td>\n",
              "      <td>1433.0</td>\n",
              "      <td>39.5</td>\n",
              "      <td>7.0</td>\n",
              "      <td>0</td>\n",
              "    </tr>\n",
              "    <tr>\n",
              "      <th>4</th>\n",
              "      <td>0</td>\n",
              "      <td>298.2</td>\n",
              "      <td>308.7</td>\n",
              "      <td>1408.0</td>\n",
              "      <td>40.0</td>\n",
              "      <td>9.0</td>\n",
              "      <td>0</td>\n",
              "    </tr>\n",
              "  </tbody>\n",
              "</table>\n",
              "</div>"
            ],
            "text/plain": [
              "   TYPE  AIR_TEMPERATURE  ...  TOOL_WEAR  MACHINE_FAILURE\n",
              "0     1            298.1  ...        0.0                0\n",
              "1     0            298.2  ...        3.0                0\n",
              "2     0            298.1  ...        5.0                0\n",
              "3     0            298.2  ...        7.0                0\n",
              "4     0            298.2  ...        9.0                0\n",
              "\n",
              "[5 rows x 7 columns]"
            ]
          },
          "metadata": {},
          "execution_count": 7
        }
      ]
    },
    {
      "cell_type": "code",
      "metadata": {
        "colab": {
          "base_uri": "https://localhost:8080/"
        },
        "id": "IdTkpvu-S1_Z",
        "outputId": "6cef503b-764c-47fe-ca3c-ddd29ae8ef45"
      },
      "source": [
        "df['MACHINE_FAILURE'].value_counts(normalize=True) * 100\n"
      ],
      "execution_count": 8,
      "outputs": [
        {
          "output_type": "execute_result",
          "data": {
            "text/plain": [
              "0    96.61\n",
              "1     3.39\n",
              "Name: MACHINE_FAILURE, dtype: float64"
            ]
          },
          "metadata": {},
          "execution_count": 8
        }
      ]
    },
    {
      "cell_type": "code",
      "metadata": {
        "colab": {
          "base_uri": "https://localhost:8080/"
        },
        "id": "R9RKqWEvY354",
        "outputId": "aa951427-ce25-406f-89d3-ea70f256dc18"
      },
      "source": [
        "train_ratio = 0.75\n",
        "validation_ratio = 0.15\n",
        "test_ratio = 0.10\n",
        "\n",
        "df_full = df.copy()\n",
        "\n",
        "y_train_full = df_full.pop(\"MACHINE_FAILURE\")\n",
        "\n",
        "y_train_full = pd.DataFrame(y_train_full)\n",
        "\n",
        "column_types = { \"TYPE\": \"categorical\", \"AIR_TEMPERATURE\" : \"numerical\", \"PROCESS_TEMPERATURE\" : \"numerical\", \"ROTATIONAL_SPEED\" : \"numerical\", \"TORQUE\" : \"numerical\", \"TOOL_WEAR\" : \"numerical\" }\n",
        "numerical_cols = [\n",
        "  'AIR_TEMPERATURE', 'PROCESS_TEMPERATURE', 'ROTATIONAL_SPEED', 'TORQUE', 'TOOL_WEAR'\n",
        "]\n",
        "categorical_cols = [\n",
        "  'TYPE'\n",
        "]\n",
        "\n",
        "x_train_mapper = DataFrameMapper([\n",
        "  ('TYPE', sklearn.preprocessing.LabelBinarizer()),\n",
        "  (['AIR_TEMPERATURE'], sklearn.preprocessing.StandardScaler()),\n",
        "  (['PROCESS_TEMPERATURE'], sklearn.preprocessing.StandardScaler()),\n",
        "  (['ROTATIONAL_SPEED'], sklearn.preprocessing.StandardScaler()),\n",
        "  (['TORQUE'], sklearn.preprocessing.StandardScaler()),\n",
        "  (['TOOL_WEAR'], sklearn.preprocessing.StandardScaler())\n",
        "  ], df_out=True)\n",
        "\n",
        "df_full_scaled = x_train_mapper.fit_transform(df_full.copy())\n",
        "\n",
        "x_train_scaled, x_test_scaled, y_train_scaled, y_test_scaled = train_test_split(df_full_scaled, y_train_full, test_size=1 - train_ratio)\n",
        "\n",
        "#x_val_scaled, x_test_scaled, y_val_scaled, y_test_scaled = train_test_split(x_test_scaled, y_test_scaled, test_size=test_ratio/(test_ratio + validation_ratio)) \n",
        "\n",
        "\n",
        "# train is now 75% of the entire data set\n",
        "# the _junk suffix means that we drop that variable completely\n",
        "#x_train, x_test, y_train, y_test = train_test_split(df_full, y_train_full, test_size=1 - train_ratio)\n",
        "\n",
        "# test is now 10% of the initial data set\n",
        "# validation is now 15% of the initial data set\n",
        "#x_val, x_test, y_val, y_test = train_test_split(x_test, y_test, test_size=test_ratio/(test_ratio + validation_ratio)) \n",
        "\n",
        "print(\"original dataset \")\n",
        "print(df_full.head())\n",
        "\n",
        "print(\"df_full_scaled dataset \")\n",
        "print(df_full_scaled.head())\n",
        "\n",
        "#print(\"x_train dataset \")\n",
        "#print(x_train.head())\n",
        "\n",
        "print(\"x_train_scaled:\")\n",
        "print(x_train_scaled.head())\n",
        "\n",
        "#print(x_train, x_val, x_test)\n",
        "\n",
        "#print(y_train, y_val, y_test)"
      ],
      "execution_count": 9,
      "outputs": [
        {
          "output_type": "stream",
          "name": "stdout",
          "text": [
            "original dataset \n",
            "   TYPE  AIR_TEMPERATURE  ...  TORQUE  TOOL_WEAR\n",
            "0     1            298.1  ...    42.8        0.0\n",
            "1     0            298.2  ...    46.3        3.0\n",
            "2     0            298.1  ...    49.4        5.0\n",
            "3     0            298.2  ...    39.5        7.0\n",
            "4     0            298.2  ...    40.0        9.0\n",
            "\n",
            "[5 rows x 6 columns]\n",
            "df_full_scaled dataset \n",
            "   TYPE_0  TYPE_1  TYPE_2  ...  ROTATIONAL_SPEED    TORQUE  TOOL_WEAR\n",
            "0       0       1       0  ...          0.068185  0.282200  -1.695984\n",
            "1       1       0       0  ...         -0.729472  0.633308  -1.648852\n",
            "2       1       0       0  ...         -0.227450  0.944290  -1.617430\n",
            "3       1       0       0  ...         -0.590021 -0.048845  -1.586009\n",
            "4       1       0       0  ...         -0.729472  0.001313  -1.554588\n",
            "\n",
            "[5 rows x 8 columns]\n",
            "x_train_scaled:\n",
            "      TYPE_0  TYPE_1  TYPE_2  ...  ROTATIONAL_SPEED    TORQUE  TOOL_WEAR\n",
            "268        0       1       0  ...          0.453068 -0.339763  -0.439129\n",
            "1249       1       0       0  ...         -0.400368 -0.319700   1.697523\n",
            "1661       0       1       0  ...         -0.712737  0.723593   0.943411\n",
            "2282       1       0       0  ...          1.027604 -0.901537  -0.549104\n",
            "2038       1       0       0  ...         -0.517507  0.322326   1.838920\n",
            "\n",
            "[5 rows x 8 columns]\n"
          ]
        }
      ]
    },
    {
      "cell_type": "markdown",
      "metadata": {
        "id": "fF0D90SzwEhD"
      },
      "source": [
        "Let's make a Dummy Classifier that always chooses the Majority Class to baseline against"
      ]
    },
    {
      "cell_type": "code",
      "metadata": {
        "id": "bmBR4WqqrTkv"
      },
      "source": [
        "def calculate_cv_standard_error_ci(cv, model, X, y, k, top_N_predictions):\n",
        "\n",
        "  stats = list()\n",
        "\n",
        "  for i, (train_index, test_index) in enumerate(cv.split(X, y)):\n",
        "\n",
        "    # convert the data indexes into references\n",
        "    Xtrain, Xtest = X.iloc[train_index], X.iloc[test_index]\n",
        "    ytrain, ytest = y.iloc[train_index], y.iloc[test_index]\n",
        "\n",
        "    print(\"Running CV Fold-\" + str(i))\n",
        "\n",
        "    # fit the model on the training data (Xtrain) and labels (ytrain)\n",
        "    model.fit( Xtrain, ytrain.values.ravel() )\n",
        "\n",
        "    # now get the probabilites of the predictions for the text input (data: Xtest, labels: ytest)\n",
        "    probas_ = model.predict_proba( Xtest )\n",
        "    prediction_est_prob = probas_[:, 1]\n",
        "\n",
        "    scmtrx_lr_full_testset = model_valuation.standard_confusion_matrix_for_n_ranked_instances(ytest, prediction_est_prob, 0.1, top_N_predictions)\n",
        "\n",
        "    [[tp, fp], [fn, tn]] = scmtrx_lr_full_testset\n",
        "\n",
        "    total_predictions = (tp + tn + fp + fn)\n",
        "\n",
        "    acc_top_N_predictions = (tp + tn) / (tp + tn + fp + fn)\n",
        "\n",
        "    stats.append(acc_top_N_predictions)\n",
        "    \n",
        "    '''    \n",
        "    print(\"Logistic Regression (full test set): \")\n",
        "    print(\"total_predictions: \" + str(total_predictions))\n",
        "    print(\"TP: \" + str(tp))\n",
        "    print(\"TN: \" + str(tn))\n",
        "    print(\"FP: \" + str(fp))\n",
        "    print(\"FN: \" + str(fn))\n",
        "    '''\n",
        "\n",
        "  mean_score = np.mean(stats)\n",
        "  std_dev_score = np.std(stats)\n",
        "  standard_error_score = (1/np.sqrt(k)) * std_dev_score\n",
        "\n",
        "  # https://en.wikipedia.org/wiki/Standard_error#:~:text=Assumptions%20and%20usage%5Bedit%5D\n",
        "  # https://en.wikipedia.org/wiki/1.96\n",
        "  # 95% of values will lie within ±1.96\n",
        "  ci_95 = 1.96 * standard_error_score\n",
        "  #print(\"CI Ranges 95%:\")\n",
        "\n",
        "  low_end_range = mean_score - ci_95\n",
        "  high_end_range = mean_score + ci_95\n",
        "\n",
        "  return mean_score, std_dev_score, standard_error_score, ci_95, low_end_range, high_end_range\n"
      ],
      "execution_count": 10,
      "outputs": []
    },
    {
      "cell_type": "code",
      "metadata": {
        "id": "aQhOApxXUiyP"
      },
      "source": [
        "from sklearn.dummy import DummyClassifier\n",
        "from sklearn.model_selection import KFold, train_test_split, RandomizedSearchCV, StratifiedKFold\n",
        "\n",
        "\n",
        "k = 10\n",
        "cv = StratifiedKFold( n_splits=k )\n",
        "\n",
        "top_N_accuracy = 18\n",
        "\n",
        "min_topN_accuracy = 0.61\n",
        "target_topN_accuracy = 0.78\n",
        "\n",
        "X = df_full_scaled\n",
        "y = y_train_full\n"
      ],
      "execution_count": 11,
      "outputs": []
    },
    {
      "cell_type": "markdown",
      "metadata": {
        "id": "KheuxJawwLm1"
      },
      "source": [
        "so notice we have high accuracy with this model? its because it always predicts the majority class (no failure), but never captures a TP\n",
        "\n",
        "This is a great example of how accuracy in some contexts can be misleading.\n",
        "\n",
        "Now let's move on and try a better baseline model with Logistic Regression."
      ]
    },
    {
      "cell_type": "code",
      "metadata": {
        "colab": {
          "base_uri": "https://localhost:8080/"
        },
        "id": "qZhzZLcptVM-",
        "outputId": "1f58f184-6265-4038-99f8-c18248d1996f"
      },
      "source": [
        "dummy_model = DummyClassifier(strategy='most_frequent',random_state=0)\n",
        "\n",
        "\n",
        "# test method for cv-se-ci\n",
        "mean_score2, std_dev_score2, standard_error_score2, ci_95_2, low_end_range2, high_end_range2 = calculate_cv_standard_error_ci(cv, dummy_model, X, y, k, top_N_accuracy)\n",
        "\n",
        "print(\"\\n\\navg top 18 acc: \" + str(\"{:.4f}\".format(mean_score2)))\n",
        "print(\"\\n\\nSTD DEV: \" + str(std_dev_score2))\n",
        "print(\"\\n\\nStandard Error (Accuracy) Across All Folds: ( \" + str(\"{:.4f}\".format(standard_error_score2)) + \")\")"
      ],
      "execution_count": 12,
      "outputs": [
        {
          "output_type": "stream",
          "name": "stdout",
          "text": [
            "Running CV Fold-0\n",
            "Running CV Fold-1\n",
            "Running CV Fold-2\n",
            "Running CV Fold-3\n",
            "Running CV Fold-4\n",
            "Running CV Fold-5\n",
            "Running CV Fold-6\n",
            "Running CV Fold-7\n",
            "Running CV Fold-8\n",
            "Running CV Fold-9\n",
            "\n",
            "\n",
            "avg top 18 acc: 0.9444\n",
            "\n",
            "\n",
            "STD DEV: 0.07856742013183862\n",
            "\n",
            "\n",
            "Standard Error (Accuracy) Across All Folds: ( 0.0248)\n"
          ]
        }
      ]
    },
    {
      "cell_type": "code",
      "metadata": {
        "colab": {
          "base_uri": "https://localhost:8080/"
        },
        "id": "fWfcyOx-uqg3",
        "outputId": "be7852dc-2877-4aee-8c2c-fba4f6848c07"
      },
      "source": [
        "classifier_kfold_LR = LogisticRegression(solver='lbfgs')\n",
        "\n",
        "# test method for cv-se-ci\n",
        "mean_score_lr, std_dev_score_lr, standard_error_score_lr, ci_95_lr, low_end_range_lr, high_end_range_lr = calculate_cv_standard_error_ci(cv, classifier_kfold_LR, X, y, k, top_N_accuracy)\n",
        "\n",
        "print(\"\\n\\navg top \" + str(top_N_accuracy) + \" acc: \" + str(\"{:.4f}\".format(mean_score_lr)))\n",
        "print(\"\\n\\nSTD DEV: \" + str(std_dev_score_lr))\n",
        "print(\"\\n\\nStandard Error (Accuracy) Across All Folds: ( \" + str(\"{:.4f}\".format(standard_error_score_lr)) + \")\")\n",
        "print(\"High: \" + str(high_end_range_lr))\n",
        "print(\"Low : \" + str(low_end_range_lr))\n"
      ],
      "execution_count": 13,
      "outputs": [
        {
          "output_type": "stream",
          "name": "stdout",
          "text": [
            "Running CV Fold-0\n",
            "Running CV Fold-1\n",
            "Running CV Fold-2\n",
            "Running CV Fold-3\n",
            "Running CV Fold-4\n",
            "Running CV Fold-5\n",
            "Running CV Fold-6\n",
            "Running CV Fold-7\n",
            "Running CV Fold-8\n",
            "Running CV Fold-9\n",
            "\n",
            "\n",
            "avg top 18 acc: 0.6667\n",
            "\n",
            "\n",
            "STD DEV: 0.20637972912229677\n",
            "\n",
            "\n",
            "Standard Error (Accuracy) Across All Folds: ( 0.0653)\n",
            "High: 0.7945821480220148\n",
            "Low : 0.5387511853113187\n"
          ]
        }
      ]
    },
    {
      "cell_type": "markdown",
      "metadata": {
        "id": "Xi4vnpoKQ0Ba"
      },
      "source": [
        "So we're looking for a minumum 61% consistently as our top-18 prediction accuracy goal.\n",
        "\n",
        "Unfortunately, our next baseline didnt quite meet that metric as we can see that while the model's mean top-18 accuracy is 67% correct, but the 95% CI low end can be as low as 53.8% (bad). We need a model that will perform above 61% at least 95% of the time, so our low-end CI needs to clear our target score.\n",
        "\n",
        "Imbalanced data problems can be tough as shown with scores with this wide of variance.\n",
        "\n",
        "At this point we know we're going to have to put a little more effort into modeling to get closer to our minimum pilot goal, so let's look at doing some light grid search across a few different model architectures that have been known to perform well.\n",
        "\n",
        "So far we haven't plotted a model evaluation graph (because there was nothing to compare).\n",
        "\n",
        "To show relative model performance towards classifying the rare class we're use a Precision Recall Curve.\n",
        "\n",
        "Once we identify the most promising top 3 models, we'll evaluate their performance with our top-18 prediction test to see which ones can survive a 95% confidence interval."
      ]
    },
    {
      "cell_type": "code",
      "metadata": {
        "colab": {
          "base_uri": "https://localhost:8080/",
          "height": 1000
        },
        "id": "AXQe2KXpdYHv",
        "outputId": "a31453ca-a471-4cad-94b2-e8f2093e3d94"
      },
      "source": [
        "import datetime\n",
        "\n",
        "SVM_params = {'C':[0.001, 0.1, 10, 100], 'kernel':['rbf' ,'linear', 'poly', 'sigmoid'], 'gamma':['auto']}\n",
        "LR_params = {'C':[0.001, 0.1, 1, 10, 100], 'solver':['liblinear']}\n",
        "LDA_params = {'n_components':[None, 1,2,3], 'solver':['svd'], 'shrinkage':[None]}\n",
        "RF_params = {'n_estimators':[10,50,100], 'random_state':[42]}\n",
        "GBC_params = {'n_estimators':[10, 50, 100], 'random_state':[42]}\n",
        "\n",
        "\"\"\"\n",
        "XGB_params = {\n",
        "    'max_depth': range (2, 10, 1),\n",
        "    'n_estimators': range(60, 220, 40),\n",
        "    'learning_rate': [0.1, 0.01, 0.05]\n",
        "}\n",
        "\"\"\"\n",
        "XGB_params = {\n",
        "    'max_depth': range (2, 10, 4),\n",
        "    'n_estimators': range(60, 220, 80),\n",
        "    'learning_rate': [0.1] #, 0.01]\n",
        "}\n",
        "\n",
        "xgb_estimator = XGBClassifier(\n",
        "    kvargs={'tree_method':'gpu_hist', 'gpu_id':'0'},\n",
        "    objective= 'binary:logistic',\n",
        "    nthread=4,\n",
        "    seed=42\n",
        ")\n",
        "\n",
        "# LightGBM\n",
        "\n",
        "params_lightGBM_ctor = {\n",
        "    'application': 'binary', # for binary classification\n",
        "#     'num_class' : 1, # used for multi-classes\n",
        "    'boosting': 'gbdt', # traditional gradient boosting decision tree\n",
        "    'num_iterations': 100, \n",
        "    'learning_rate': 0.05,\n",
        "    'num_leaves': 62,\n",
        "    'device': 'cpu', # you can use GPU to achieve faster learning\n",
        "    'max_depth': -1, # <0 means no limit\n",
        "    'max_bin': 510, # Small number of bins may reduce training accuracy but can deal with over-fitting\n",
        "    'lambda_l1': 5, # L1 regularization\n",
        "    'lambda_l2': 10, # L2 regularization\n",
        "    'metric' : 'binary_error',\n",
        "    'subsample_for_bin': 200, # number of samples for constructing bins\n",
        "    'subsample': 1, # subsample ratio of the training instance\n",
        "    'colsample_bytree': 0.8, # subsample ratio of columns when constructing the tree\n",
        "    'min_split_gain': 0.5, # minimum loss reduction required to make further partition on a leaf node of the tree\n",
        "    'min_child_weight': 1, # minimum sum of instance weight (hessian) needed in a leaf\n",
        "    'min_child_samples': 5# minimum number of data needed in a leaf\n",
        "}\n",
        "\n",
        "# Initiate classifier to use\n",
        "lightGBM_mdl = lgb.LGBMClassifier(boosting_type= 'gbdt', \n",
        "          objective = 'binary', \n",
        "          n_jobs = 5, \n",
        "          silent = True,\n",
        "          #max_depth = params_lightGBM_ctor['max_depth'],\n",
        "          max_bin = params_lightGBM_ctor['max_bin'], \n",
        "          subsample_for_bin = params_lightGBM_ctor['subsample_for_bin'],\n",
        "          subsample = params_lightGBM_ctor['subsample'], \n",
        "          min_split_gain = params_lightGBM_ctor['min_split_gain'], \n",
        "          min_child_weight = params_lightGBM_ctor['min_child_weight'], \n",
        "          min_child_samples = params_lightGBM_ctor['min_child_samples'])\n",
        "\n",
        "lgbm_gs_params = {\n",
        "    'max_depth': range (2, 10, 4)\n",
        "    #'n_estimators': range(60, 220, 80),\n",
        "    #'learning_rate': [0.1] #, 0.01]\n",
        "}\n",
        "\n",
        "models_opt = []\n",
        "\n",
        "models_opt.append(('Logistic Regression', LogisticRegression(), LR_params))\n",
        "#models_opt.append(('LDA', LinearDiscriminantAnalysis(), LDA_params))\n",
        "models_opt.append(('Random Forest Classifiers', RandomForestClassifier(), RF_params))\n",
        "#models_opt.append(('SVM', SVC(), SVM_params))\n",
        "models_opt.append(('Gradient Boosting Decision Trees', GradientBoostingClassifier(), GBC_params))\n",
        "\n",
        "# commented out for now, takes too long during testing!\n",
        "models_opt.append(('XGBoost', xgb_estimator, XGB_params))\n",
        "\n",
        "models_opt.append(('LGBMClassifier', lightGBM_mdl, lgbm_gs_params))\n",
        "\n",
        "\n",
        "# now set up Cross Validation parameters\n",
        "\n",
        "results = []\n",
        "names = []\n",
        "best_models = []\n",
        "best_params = {}\n",
        "#k = 10\n",
        "\n",
        "#model_data_tuples = []\n",
        "\n",
        "plt.figure(1)\n",
        "fig_pr, ax_pr = plt.subplots(1,1,figsize = (12,12))\n",
        "\n",
        "\n",
        "# now let's run Grid Search for each model listed in model_opts\n",
        "for name, model, params in models_opt:\n",
        "\n",
        "    start_time = datetime.datetime.now()\n",
        "\n",
        "    print(\"\\nRunning Grid Search for: \" + name)\n",
        "    model_grid = GridSearchCV(model, params, cv=cv, scoring='average_precision') # \n",
        "    model_grid.fit(x_train_scaled, y_train_scaled)\n",
        "\n",
        "    best_model_best_mean_score = model_grid.best_score_\n",
        "    best_model_best_score_stdev = model_grid.cv_results_['std_test_score'][model_grid.best_index_]\n",
        "\n",
        "    #print(model_grid.cv_results_.keys())\n",
        "\n",
        "    print( 'Best [Training] AP (Mean cross-validated) score: %0.3f' % model_grid.best_score_)\n",
        "\n",
        "    msg = \"[Training] Cross Validation AP (Mean) {} AP: {:.3f} SD: {:.3f}\".format(name, best_model_best_mean_score, best_model_best_score_stdev)\n",
        "    print(msg)\n",
        "\n",
        "    names.append(name)\n",
        "    #print(name)\n",
        "\n",
        "    # now let's use the test data\n",
        "\n",
        "    predictions = model_grid.best_estimator_.predict(x_test_scaled)\n",
        "\n",
        "    proba = model_grid.best_estimator_.predict_proba(x_test_scaled)\n",
        "\n",
        "    #model_data_tuples.append(tuple((y_test_scaled, proba[:, 1], name)))     \n",
        "\n",
        "    precision, recall, _ = precision_recall_curve(y_test_scaled, proba[:, 1])\n",
        "\n",
        "    ap_test_for_model = average_precision_score(y_test_scaled, proba[:, 1])\n",
        "\n",
        "    # Plotting each individual PR Curve\n",
        "    plt.plot(recall, precision, lw=1, alpha=ap_test_for_model, label='' + name + '[Test] (Mean AP = %0.3f)' % ( ap_test_for_model ) )\n",
        "\n",
        "\n",
        "    cm = model_valuation.standard_confusion_matrix(y_test_scaled, predictions)    \n",
        "\n",
        "    print(cm)\n",
        "    # 'predictions': predictions,\n",
        "    best_models.append( { 'name': name, 'model_grid': model_grid, 'best_model_test_mean_ap': ap_test_for_model } )\n",
        "    #best_params[ name ] = model_grid.best_params_\n",
        "\n",
        "    end_time = datetime.datetime.now()\n",
        "\n",
        "    time_diff = (end_time - start_time)\n",
        "    print(\"Model execution time: \" + str(time_diff.total_seconds() ) )\n",
        "\n",
        "\n",
        "#plot_precision_recall_curve(model_grid.best_estimator_, X_test_norm, y_test)\n",
        "plt.xlabel('Recall')\n",
        "plt.ylabel('Precision')\n",
        "plt.title(\"PR Curve\")\n",
        "plt.legend(loc=\"lower right\")\n",
        "plt.show()\n",
        "\n",
        "\n",
        " "
      ],
      "execution_count": 14,
      "outputs": [
        {
          "output_type": "stream",
          "name": "stdout",
          "text": [
            "\n",
            "Running Grid Search for: Logistic Regression\n",
            "Best [Training] AP (Mean cross-validated) score: 0.461\n",
            "[Training] Cross Validation AP (Mean) Logistic Regression AP: 0.461 SD: 0.117\n",
            "[[  14    2]\n",
            " [  70 2414]]\n",
            "Model execution time: 0.761327\n",
            "\n",
            "Running Grid Search for: Random Forest Classifiers\n",
            "Best [Training] AP (Mean cross-validated) score: 0.779\n",
            "[Training] Cross Validation AP (Mean) Random Forest Classifiers AP: 0.779 SD: 0.092\n",
            "[[  49    9]\n",
            " [  35 2407]]\n",
            "Model execution time: 10.155729\n",
            "\n",
            "Running Grid Search for: Gradient Boosting Decision Trees\n",
            "Best [Training] AP (Mean cross-validated) score: 0.800\n",
            "[Training] Cross Validation AP (Mean) Gradient Boosting Decision Trees AP: 0.800 SD: 0.095\n",
            "[[  58    8]\n",
            " [  26 2408]]\n",
            "Model execution time: 13.897241\n",
            "\n",
            "Running Grid Search for: XGBoost\n",
            "Best [Training] AP (Mean cross-validated) score: 0.839\n",
            "[Training] Cross Validation AP (Mean) XGBoost AP: 0.839 SD: 0.077\n",
            "[[  61    7]\n",
            " [  23 2409]]\n",
            "Model execution time: 13.311851\n",
            "\n",
            "Running Grid Search for: LGBMClassifier\n",
            "Best [Training] AP (Mean cross-validated) score: 0.748\n",
            "[Training] Cross Validation AP (Mean) LGBMClassifier AP: 0.748 SD: 0.066\n",
            "[[  45   14]\n",
            " [  39 2402]]\n",
            "Model execution time: 3.715916\n"
          ]
        },
        {
          "output_type": "display_data",
          "data": {
            "text/plain": [
              "<Figure size 432x288 with 0 Axes>"
            ]
          },
          "metadata": {}
        },
        {
          "output_type": "display_data",
          "data": {
            "image/png": "[encoded data removed]",
            "text/plain": [
              "<Figure size 864x864 with 1 Axes>"
            ]
          },
          "metadata": {
            "needs_background": "light"
          }
        }
      ]
    },
    {
      "cell_type": "markdown",
      "metadata": {
        "id": "n0OOHRxaWUod"
      },
      "source": [
        "At this point we can see that 3 models standout\n",
        "* XGBoost\n",
        "* Gradient Boosting Decision Trees\n",
        "* Random Forests\n",
        "\n",
        "We know that the Precision-Recall curve shows us which classifiers are better picking up on the rare class (e.g., imbalanced datasets)\n",
        "\n",
        "Now let's take these top 3 models, and compare their cross-validation Standard Error confidence intervals to see which model is going to hold up \"enough of the time\" to meet our minimum viable performance criteria set forth by the line of business."
      ]
    },
    {
      "cell_type": "code",
      "metadata": {
        "colab": {
          "base_uri": "https://localhost:8080/",
          "height": 1000
        },
        "id": "r13SrVxBbT0B",
        "outputId": "b28b5aa9-1b29-4398-b48e-495c6a236b32"
      },
      "source": [
        "# for each of the top-3 models surfaced via grid search\n",
        "\n",
        "#model_labels = np.zeros(3)\n",
        "#model_scores = np.zeros(3)\n",
        "\n",
        "\n",
        "fig, ax = plt.subplots(1,1,figsize = (12,12))\n",
        "labels = []\n",
        "\n",
        "\n",
        "# get top 3 based on mean CV AP score:\n",
        "top_3_model_keys = sorted(best_models, key=lambda rec:rec['best_model_test_mean_ap'], reverse=True)[:3]\n",
        "\n",
        "for model_index in range(3):\n",
        "  print( top_3_model_keys[ model_index ]['name'] + ': ' + str(top_3_model_keys[ model_index]['best_model_test_mean_ap']) )\n",
        "\n",
        "  labels.append(top_3_model_keys[ model_index ]['name'])\n",
        "\n",
        "  # get best model\n",
        "  model_grid = top_3_model_keys[ model_index ]['model_grid']\n",
        "  best_model_best_score_stdev = model_grid.cv_results_['std_test_score'][model_grid.best_index_]\n",
        "  best_model_best_mean_score = model_grid.best_score_\n",
        "  #print(\"STD DEV: \" + str(best_model_best_score_stdev) )\n",
        "\n",
        "\n",
        "  # NOW: we know our AP for each model\n",
        "  # what we want is the accuracy on the Top-18 predictions and the error variance\n",
        "  # now we re-run CV(k=10) and re-compute the score but now for Top-18-accuracy\n",
        "  # we collect the variances to compute CV-SE-CIs per model\n",
        "\n",
        "  mean_score2, std_dev_score2, standard_error_score2, ci_95_2, low_end_range2, high_end_range2 = calculate_cv_standard_error_ci( cv, model_grid.best_estimator_, X, y, k, top_N_accuracy )\n",
        "\n",
        "  print(\"\\n\\navg top \" + str(top_N_accuracy) + \" acc: \" + str(\"{:.4f}\".format(mean_score2)))\n",
        "  print(\"\\n\\nSTD DEV: \" + str(std_dev_score2))\n",
        "  print(\"\\n\\nStandard Error (Accuracy) Across All Folds: ( \" + str(\"{:.4f}\".format(standard_error_score2)) + \")\")\n",
        "  print(\"High: \" + str(high_end_range2))\n",
        "  print(\"Low : \" + str(low_end_range2))  \n",
        "\n",
        "  ax.bar(model_index, mean_score2,\n",
        "        yerr=ci_95_2,\n",
        "        align='center',\n",
        "        alpha=0.5,\n",
        "        ecolor='black',\n",
        "        capsize=10)\n",
        "  \n",
        "  print(\"-----\\n\")\n",
        "\n",
        "\n",
        "# add logistic regression for comparison\n",
        "# mean_score_lr, std_dev_score_lr, standard_error_score_lr, ci_95_lr, low_end_range_lr, high_end_range_lr\n",
        "labels.append(\"Logistic Regression\")\n",
        "\n",
        "ax.bar(3, mean_score_lr,\n",
        "      yerr=ci_95_lr,\n",
        "      align='center',\n",
        "      alpha=0.5,\n",
        "      ecolor='black',\n",
        "      capsize=10)\n",
        "\n",
        "# draw min line\n",
        "ax.axhline(min_topN_accuracy, 0, 1, linestyle = ':', color = 'r',label = 'Minimum Top18 Accuracy')\n",
        "\n",
        "# draw target line\n",
        "ax.axhline(target_topN_accuracy, 0, 1, linestyle = ':', color = 'b',label = 'Minimum Top18 Accuracy')\n",
        "\n",
        "\n",
        "x_pos = np.arange(len(labels))\n",
        "ax.set_ylabel('Avg Top 18 Accuracy')\n",
        "ax.set_yticks(np.arange(0, 1.0, 0.05))\n",
        "ax.set_xticks(x_pos)\n",
        "ax.set_xticklabels(labels)\n",
        "ax.set_title('Comparison of Models\\' Top18 Accuracy and 95% Confidence Intervals')\n",
        "ax.yaxis.grid(True)\n",
        "\n",
        "# Save the figure and show\n",
        "#plt.tight_layout()\n",
        "#plt.savefig('bar_plot_with_error_bars.png')\n",
        "plt.show()\n",
        "\n",
        "  \n",
        "\n",
        "\n",
        "# based on the variances from the top-20-ranked-predictions, calculate the CV-SE-CI (Standard Error Confidence Intervals at 95%)"
      ],
      "execution_count": 15,
      "outputs": [
        {
          "output_type": "stream",
          "name": "stdout",
          "text": [
            "XGBoost: 0.836809956740349\n",
            "Running CV Fold-0\n",
            "Running CV Fold-1\n",
            "Running CV Fold-2\n",
            "Running CV Fold-3\n",
            "Running CV Fold-4\n",
            "Running CV Fold-5\n",
            "Running CV Fold-6\n",
            "Running CV Fold-7\n",
            "Running CV Fold-8\n",
            "Running CV Fold-9\n",
            "\n",
            "\n",
            "avg top 18 acc: 0.8889\n",
            "\n",
            "\n",
            "STD DEV: 0.09622504486493763\n",
            "\n",
            "\n",
            "Standard Error (Accuracy) Across All Folds: ( 0.0304)\n",
            "High: 0.948529789595007\n",
            "Low : 0.8292479881827709\n",
            "-----\n",
            "\n",
            "Gradient Boosting Decision Trees: 0.8105641840791915\n",
            "Running CV Fold-0\n",
            "Running CV Fold-1\n",
            "Running CV Fold-2\n",
            "Running CV Fold-3\n",
            "Running CV Fold-4\n",
            "Running CV Fold-5\n",
            "Running CV Fold-6\n",
            "Running CV Fold-7\n",
            "Running CV Fold-8\n",
            "Running CV Fold-9\n",
            "\n",
            "\n",
            "avg top 18 acc: 0.8056\n",
            "\n",
            "\n",
            "STD DEV: 0.15957118462605632\n",
            "\n",
            "\n",
            "Standard Error (Accuracy) Across All Folds: ( 0.0505)\n",
            "High: 0.9044588004560737\n",
            "Low : 0.7066523106550376\n",
            "-----\n",
            "\n",
            "Random Forest Classifiers: 0.7830730925169579\n",
            "Running CV Fold-0\n",
            "Running CV Fold-1\n",
            "Running CV Fold-2\n",
            "Running CV Fold-3\n",
            "Running CV Fold-4\n",
            "Running CV Fold-5\n",
            "Running CV Fold-6\n",
            "Running CV Fold-7\n",
            "Running CV Fold-8\n",
            "Running CV Fold-9\n",
            "\n",
            "\n",
            "avg top 18 acc: 0.7833\n",
            "\n",
            "\n",
            "STD DEV: 0.1520436909267112\n",
            "\n",
            "\n",
            "Standard Error (Accuracy) Across All Folds: ( 0.0481)\n",
            "High: 0.8775709893020021\n",
            "Low : 0.6890956773646648\n",
            "-----\n",
            "\n"
          ]
        },
        {
          "output_type": "display_data",
          "data": {
            "image/png": "[encoded data removed]",
            "text/plain": [
              "<Figure size 864x864 with 1 Axes>"
            ]
          },
          "metadata": {
            "needs_background": "light"
          }
        }
      ]
    },
    {
      "cell_type": "code",
      "metadata": {
        "colab": {
          "base_uri": "https://localhost:8080/"
        },
        "id": "8Hr87sEJwwhe",
        "outputId": "7dd453c0-6020-45df-d6f6-8050a7dd3fdc"
      },
      "source": [
        "top_1_model_keys = sorted(best_models, key=lambda rec:rec['best_model_test_mean_ap'], reverse=True)[:1]\n",
        "\n",
        "#top_model_key = top_1_model_keys[0]\n",
        "\n",
        "print( top_1_model_keys[ 0 ]['name'] + ': ' + str(top_1_model_keys[ 0 ]['best_model_test_mean_ap']) )\n",
        "\n",
        "\n",
        "# get best model\n",
        "model_grid = top_1_model_keys[ 0 ]['model_grid']\n",
        "best_model_best_score_stdev = model_grid.cv_results_['std_test_score'][model_grid.best_index_]\n",
        "best_model_best_mean_score = model_grid.best_score_\n",
        "\n",
        "best_estimator = model_grid.best_estimator_\n",
        "\n",
        "print(best_estimator)\n",
        "\n",
        "predictions_final = best_estimator.predict(x_test_scaled)\n",
        "\n",
        "print( predictions_final )\n"
      ],
      "execution_count": null,
      "outputs": [
        {
          "output_type": "stream",
          "name": "stdout",
          "text": [
            "XGBoost: 0.8993044875085507\n",
            "XGBClassifier(kvargs={'gpu_id': '0', 'tree_method': 'gpu_hist'}, max_depth=6,\n",
            "              n_estimators=60, nthread=4, seed=42)\n",
            "[0 0 0 ... 1 0 0]\n"
          ]
        }
      ]
    },
    {
      "cell_type": "code",
      "metadata": {
        "colab": {
          "base_uri": "https://localhost:8080/"
        },
        "id": "E4co6vBh0m_v",
        "outputId": "ec1b02e9-a379-4a56-dd02-05b9211ec47f"
      },
      "source": [
        "from google.colab import drive\n",
        "drive.mount('/gdrive')\n",
        "%cd /gdrive\n",
        "\n"
      ],
      "execution_count": null,
      "outputs": [
        {
          "output_type": "stream",
          "name": "stdout",
          "text": [
            "Mounted at /gdrive\n",
            "/gdrive\n"
          ]
        }
      ]
    },
    {
      "cell_type": "code",
      "metadata": {
        "colab": {
          "base_uri": "https://localhost:8080/"
        },
        "id": "wkN0MKiJ1fsM",
        "outputId": "b0c082eb-baa0-44a9-d1e4-d41c7acb06f0"
      },
      "source": [
        "\n",
        "%ls -la \"./MyDrive/machine_learning/predictive_maintenance/models/\""
      ],
      "execution_count": null,
      "outputs": [
        {
          "output_type": "stream",
          "name": "stdout",
          "text": [
            "total 0\n"
          ]
        }
      ]
    },
    {
      "cell_type": "code",
      "metadata": {
        "colab": {
          "base_uri": "https://localhost:8080/"
        },
        "id": "mK7FfxcRzNsg",
        "outputId": "af7b785a-7830-49ad-d90d-fe6381aee40c"
      },
      "source": [
        "!pip install sklearn2pmml\n"
      ],
      "execution_count": null,
      "outputs": [
        {
          "output_type": "stream",
          "name": "stdout",
          "text": [
            "Collecting sklearn2pmml\n",
            "  Downloading sklearn2pmml-0.76.1.tar.gz (6.0 MB)\n",
            "\u001b[K     |████████████████████████████████| 6.0 MB 28.0 MB/s \n",
            "\u001b[?25hRequirement already satisfied: joblib>=0.13.0 in /usr/local/lib/python3.7/dist-packages (from sklearn2pmml) (1.1.0)\n",
            "Requirement already satisfied: scikit-learn>=0.18.0 in /usr/local/lib/python3.7/dist-packages (from sklearn2pmml) (1.0.1)\n",
            "Requirement already satisfied: sklearn-pandas>=0.0.10 in /usr/local/lib/python3.7/dist-packages (from sklearn2pmml) (1.8.0)\n",
            "Requirement already satisfied: numpy>=1.14.6 in /usr/local/lib/python3.7/dist-packages (from scikit-learn>=0.18.0->sklearn2pmml) (1.21.4)\n",
            "Requirement already satisfied: scipy>=1.1.0 in /usr/local/lib/python3.7/dist-packages (from scikit-learn>=0.18.0->sklearn2pmml) (1.4.1)\n",
            "Requirement already satisfied: threadpoolctl>=2.0.0 in /usr/local/lib/python3.7/dist-packages (from scikit-learn>=0.18.0->sklearn2pmml) (3.0.0)\n",
            "Requirement already satisfied: pandas>=0.11.0 in /usr/local/lib/python3.7/dist-packages (from sklearn-pandas>=0.0.10->sklearn2pmml) (1.1.5)\n",
            "Requirement already satisfied: python-dateutil>=2.7.3 in /usr/local/lib/python3.7/dist-packages (from pandas>=0.11.0->sklearn-pandas>=0.0.10->sklearn2pmml) (2.8.2)\n",
            "Requirement already satisfied: pytz>=2017.2 in /usr/local/lib/python3.7/dist-packages (from pandas>=0.11.0->sklearn-pandas>=0.0.10->sklearn2pmml) (2018.9)\n",
            "Requirement already satisfied: six>=1.5 in /usr/local/lib/python3.7/dist-packages (from python-dateutil>=2.7.3->pandas>=0.11.0->sklearn-pandas>=0.0.10->sklearn2pmml) (1.15.0)\n",
            "Building wheels for collected packages: sklearn2pmml\n",
            "  Building wheel for sklearn2pmml (setup.py) ... \u001b[?25l\u001b[?25hdone\n",
            "  Created wheel for sklearn2pmml: filename=sklearn2pmml-0.76.1-py3-none-any.whl size=5985321 sha256=2f2ddc4223f4152af2db6cfbf9b04059e58c7985b06ed7d366d414729c293d8a\n",
            "  Stored in directory: /root/.cache/pip/wheels/56/e3/4a/84bc2cf69826abbd14368ed4d287d71891614891bb87fde2d4\n",
            "Successfully built sklearn2pmml\n",
            "Installing collected packages: sklearn2pmml\n",
            "Successfully installed sklearn2pmml-0.76.1\n"
          ]
        }
      ]
    },
    {
      "cell_type": "code",
      "metadata": {
        "id": "G83dRzZgzQZv"
      },
      "source": [
        "from sklearn2pmml import sklearn2pmml\n",
        "from sklearn2pmml.pipeline import PMMLPipeline\n",
        "\n",
        "'''\n",
        "sklearn2pmml(estimator=best_estimator, \n",
        "             mapper=x_train_mapper, \n",
        "             pmml=\"./MyDrive/machine_learning/predictive_maintenance/models/pm_sklearn_gscv_xgb_20211123.pmml\")\n",
        "'''\n",
        "pipeline = PMMLPipeline([\n",
        "\t(\"mapper\", x_train_mapper),\n",
        "\t(\"classifier\", best_estimator)\n",
        "])"
      ],
      "execution_count": null,
      "outputs": []
    },
    {
      "cell_type": "code",
      "metadata": {
        "id": "0ilr7Uem2gdf"
      },
      "source": [
        "sklearn2pmml(pipeline, \"./MyDrive/machine_learning/predictive_maintenance/models/pm_sklearn_gscv_xgb_20211123.pmml\", with_repr = True)\n"
      ],
      "execution_count": null,
      "outputs": []
    }
  ]
}