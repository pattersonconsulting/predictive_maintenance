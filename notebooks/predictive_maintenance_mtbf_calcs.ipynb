{
  "nbformat": 4,
  "nbformat_minor": 0,
  "metadata": {
    "colab": {
      "name": "predictive_maintenance_mtbf_calcs.ipynb",
      "provenance": [],
      "collapsed_sections": []
    },
    "kernelspec": {
      "name": "python3",
      "display_name": "Python 3"
    },
    "language_info": {
      "name": "python"
    }
  },
  "cells": [
    {
      "cell_type": "code",
      "metadata": {
        "colab": {
          "base_uri": "https://localhost:8080/"
        },
        "id": "_4wbvAMsgUHY",
        "outputId": "2361603e-a02c-4aff-fdc2-bec40fff3d7d"
      },
      "source": [
        "!pip install reliability\n"
      ],
      "execution_count": null,
      "outputs": [
        {
          "output_type": "stream",
          "text": [
            "Requirement already satisfied: reliability in /usr/local/lib/python3.7/dist-packages (0.5.7)\n",
            "Requirement already satisfied: mplcursors>=0.3 in /usr/local/lib/python3.7/dist-packages (from reliability) (0.4)\n",
            "Requirement already satisfied: numpy>=1.19.2 in /usr/local/lib/python3.7/dist-packages (from reliability) (1.19.5)\n",
            "Requirement already satisfied: pandas>=1.1.2 in /usr/local/lib/python3.7/dist-packages (from reliability) (1.1.5)\n",
            "Requirement already satisfied: scipy>=1.5.2 in /usr/local/lib/python3.7/dist-packages (from reliability) (1.7.0)\n",
            "Requirement already satisfied: autograd-gamma>=0.5.0 in /usr/local/lib/python3.7/dist-packages (from reliability) (0.5.0)\n",
            "Requirement already satisfied: matplotlib>=3.3.2 in /usr/local/lib/python3.7/dist-packages (from reliability) (3.4.2)\n",
            "Requirement already satisfied: autograd>=1.3 in /usr/local/lib/python3.7/dist-packages (from reliability) (1.3)\n",
            "Requirement already satisfied: pytz>=2017.2 in /usr/local/lib/python3.7/dist-packages (from pandas>=1.1.2->reliability) (2018.9)\n",
            "Requirement already satisfied: python-dateutil>=2.7.3 in /usr/local/lib/python3.7/dist-packages (from pandas>=1.1.2->reliability) (2.8.1)\n",
            "Requirement already satisfied: pyparsing>=2.2.1 in /usr/local/lib/python3.7/dist-packages (from matplotlib>=3.3.2->reliability) (2.4.7)\n",
            "Requirement already satisfied: pillow>=6.2.0 in /usr/local/lib/python3.7/dist-packages (from matplotlib>=3.3.2->reliability) (7.1.2)\n",
            "Requirement already satisfied: kiwisolver>=1.0.1 in /usr/local/lib/python3.7/dist-packages (from matplotlib>=3.3.2->reliability) (1.3.1)\n",
            "Requirement already satisfied: cycler>=0.10 in /usr/local/lib/python3.7/dist-packages (from matplotlib>=3.3.2->reliability) (0.10.0)\n",
            "Requirement already satisfied: future>=0.15.2 in /usr/local/lib/python3.7/dist-packages (from autograd>=1.3->reliability) (0.16.0)\n",
            "Requirement already satisfied: six>=1.5 in /usr/local/lib/python3.7/dist-packages (from python-dateutil>=2.7.3->pandas>=1.1.2->reliability) (1.15.0)\n"
          ],
          "name": "stdout"
        }
      ]
    },
    {
      "cell_type": "code",
      "metadata": {
        "id": "tHwQ5jRRgkBD"
      },
      "source": [
        "\n",
        "import pandas as pd\n",
        "import numpy as np\n",
        "from matplotlib import pyplot as plt\n",
        "import seaborn as sns\n",
        "from matplotlib.patches import Patch\n",
        "from matplotlib.lines import Line2D"
      ],
      "execution_count": null,
      "outputs": []
    },
    {
      "cell_type": "code",
      "metadata": {
        "colab": {
          "base_uri": "https://localhost:8080/"
        },
        "id": "vW5pV0HRg0TX",
        "outputId": "c2286a41-1a0b-40eb-c6eb-418227f46844"
      },
      "source": [
        "df = pd.read_csv(\"https://archive.ics.uci.edu/ml/machine-learning-databases/00601/ai4i2020.csv\")\n",
        "print( df.head() )\n",
        "\n",
        "print( df.info() )"
      ],
      "execution_count": null,
      "outputs": [
        {
          "output_type": "stream",
          "text": [
            "   UDI Product ID Type  Air temperature [K]  ...  HDF  PWF  OSF  RNF\n",
            "0    1     M14860    M                298.1  ...    0    0    0    0\n",
            "1    2     L47181    L                298.2  ...    0    0    0    0\n",
            "2    3     L47182    L                298.1  ...    0    0    0    0\n",
            "3    4     L47183    L                298.2  ...    0    0    0    0\n",
            "4    5     L47184    L                298.2  ...    0    0    0    0\n",
            "\n",
            "[5 rows x 14 columns]\n",
            "<class 'pandas.core.frame.DataFrame'>\n",
            "RangeIndex: 10000 entries, 0 to 9999\n",
            "Data columns (total 14 columns):\n",
            " #   Column                   Non-Null Count  Dtype  \n",
            "---  ------                   --------------  -----  \n",
            " 0   UDI                      10000 non-null  int64  \n",
            " 1   Product ID               10000 non-null  object \n",
            " 2   Type                     10000 non-null  object \n",
            " 3   Air temperature [K]      10000 non-null  float64\n",
            " 4   Process temperature [K]  10000 non-null  float64\n",
            " 5   Rotational speed [rpm]   10000 non-null  int64  \n",
            " 6   Torque [Nm]              10000 non-null  float64\n",
            " 7   Tool wear [min]          10000 non-null  int64  \n",
            " 8   Machine failure          10000 non-null  int64  \n",
            " 9   TWF                      10000 non-null  int64  \n",
            " 10  HDF                      10000 non-null  int64  \n",
            " 11  PWF                      10000 non-null  int64  \n",
            " 12  OSF                      10000 non-null  int64  \n",
            " 13  RNF                      10000 non-null  int64  \n",
            "dtypes: float64(3), int64(9), object(2)\n",
            "memory usage: 1.1+ MB\n",
            "None\n"
          ],
          "name": "stdout"
        }
      ]
    },
    {
      "cell_type": "code",
      "metadata": {
        "id": "TSE1AuYeg6cA"
      },
      "source": [
        "df[\"Type\"] = df[\"Type\"].map({'H': 2, 'M': 1, 'L': 0})\n",
        "\n",
        "df.drop('UDI', axis=1, inplace=True)\n",
        "df.drop('TWF', axis=1, inplace=True)\n",
        "df.drop('HDF', axis=1, inplace=True)\n",
        "df.drop('PWF', axis=1, inplace=True)\n",
        "df.drop('OSF', axis=1, inplace=True)\n",
        "df.drop('RNF', axis=1, inplace=True)"
      ],
      "execution_count": null,
      "outputs": []
    },
    {
      "cell_type": "code",
      "metadata": {
        "colab": {
          "base_uri": "https://localhost:8080/"
        },
        "id": "Cx-Vu8dqhR5v",
        "outputId": "c861b1a1-30ad-4e5c-daff-93abed222799"
      },
      "source": [
        "df_num = df.select_dtypes(include = ['float64', 'int64'])\n",
        "print( df_num.info() )"
      ],
      "execution_count": null,
      "outputs": [
        {
          "output_type": "stream",
          "text": [
            "<class 'pandas.core.frame.DataFrame'>\n",
            "RangeIndex: 10000 entries, 0 to 9999\n",
            "Data columns (total 7 columns):\n",
            " #   Column                   Non-Null Count  Dtype  \n",
            "---  ------                   --------------  -----  \n",
            " 0   Type                     10000 non-null  int64  \n",
            " 1   Air temperature [K]      10000 non-null  float64\n",
            " 2   Process temperature [K]  10000 non-null  float64\n",
            " 3   Rotational speed [rpm]   10000 non-null  int64  \n",
            " 4   Torque [Nm]              10000 non-null  float64\n",
            " 5   Tool wear [min]          10000 non-null  int64  \n",
            " 6   Machine failure          10000 non-null  int64  \n",
            "dtypes: float64(3), int64(4)\n",
            "memory usage: 547.0 KB\n",
            "None\n"
          ],
          "name": "stdout"
        }
      ]
    },
    {
      "cell_type": "code",
      "metadata": {
        "colab": {
          "base_uri": "https://localhost:8080/"
        },
        "id": "d1L8_xkfhJuM",
        "outputId": "bd0c6d61-a381-438a-d30a-d4439d78935d"
      },
      "source": [
        "df_normal = df_num[df_num['Machine failure'] == 0]\n",
        "df_failure = df_num[df_num['Machine failure'] == 1]\n",
        "\n",
        "TotalRuntimeForFailures = df_failure['Tool wear [min]'].sum()\n",
        "print (\"Total Device Runtime: \" + str( TotalRuntimeForFailures) )\n",
        "\n",
        "number_failed_devices = df_failure['Tool wear [min]'].count()\n",
        "\n",
        "print( \"Failed Device Count: \" + str(number_failed_devices))\n",
        "\n",
        "mtbf = TotalRuntimeForFailures / number_failed_devices * 1.0\n",
        "\n",
        "print(\"mtbf: \" + str(mtbf) + \" minutes\")#"
      ],
      "execution_count": null,
      "outputs": [
        {
          "output_type": "stream",
          "text": [
            "Total Device Runtime: 48742\n",
            "Failed Device Count: 339\n",
            "mtbf: 143.78171091445427 minutes\n"
          ],
          "name": "stdout"
        }
      ]
    },
    {
      "cell_type": "code",
      "metadata": {
        "colab": {
          "base_uri": "https://localhost:8080/"
        },
        "id": "0jlz9Ra2gt7a",
        "outputId": "56bd5de9-9d94-4294-e66f-a5fae97c93df"
      },
      "source": [
        "from reliability.Reliability_testing import reliability_test_planner\n",
        "output = reliability_test_planner(number_of_failures=number_failed_devices, test_duration=TotalRuntimeForFailures, CI=0.8, print_results=False)\n",
        "print(output.MTBF)"
      ],
      "execution_count": null,
      "outputs": [
        {
          "output_type": "stream",
          "text": [
            "137.14164385440296\n"
          ],
          "name": "stdout"
        }
      ]
    }
  ]
}